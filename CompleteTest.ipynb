{
 "cells": [
  {
   "cell_type": "code",
   "execution_count": 46,
   "metadata": {
    "collapsed": true
   },
   "outputs": [],
   "source": [
    "from hico.makePosVelQuatCsv import MakePosVelQuatCSV\n",
    "from hico.HicoL0toL1B import HicoL0toL1b\n",
    "from hico.auxiliary import CNamespace\n",
    "from hico.cproc_hico import hico_geo\n",
    "import os\n",
    "from IPython.core.display import display, HTML\n",
    "import pandas as pd\n",
    "import matplotlib.pyplot as pl\n",
    "from collections import namedtuple as NT\n",
    "from datetime import datetime as DT\n",
    "from numpy import float32\n",
    "from netCDF4 import Dataset as DS\n",
    "from numpy import array as nparray\n",
    "from numpy import ones as npones"
   ]
  },
  {
   "cell_type": "code",
   "execution_count": 3,
   "metadata": {},
   "outputs": [
    {
     "data": {
      "text/html": [
       "<style>.container {width:90%}!important<style>"
      ],
      "text/plain": [
       "<IPython.core.display.HTML object>"
      ]
     },
     "metadata": {},
     "output_type": "display_data"
    }
   ],
   "source": [
    "%matplotlib inline\n",
    "display(HTML(\"<style>.container {width:90%} !important<style>\"))"
   ]
  },
  {
   "cell_type": "code",
   "execution_count": 13,
   "metadata": {
    "collapsed": true
   },
   "outputs": [],
   "source": [
    "ocvarroot = os.getenv('OCVARROOT')"
   ]
  },
  {
   "cell_type": "code",
   "execution_count": 18,
   "metadata": {
    "collapsed": true
   },
   "outputs": [],
   "source": [
    "testdatadir = '/accounts/ekarakoy/ocssw/src/l1bgen_hico/tests/testdata/'\n",
    "dataBaseName = os.path.commonprefix(os.listdir(testdatadir))\n",
    "basePath = os.path.join(testdatadir, dataBaseName)\n",
    "pargs = CNamespace(l0file='%s.bil' % basePath, csvfile='%s.csv' % basePath,\n",
    "                hdrfile='%s.rhdr' % basePath,\n",
    "                  boresight=[-0.9957, 0.0268, -0.0128],\n",
    "                  earthfile=os.path.join(ocvarroot, 'hico', 'finals.data'),\n",
    "                  lpsfile=os.path.join(ocvarroot, 'modis', 'leapsec.dat'))"
   ]
  },
  {
   "cell_type": "code",
   "execution_count": 38,
   "metadata": {
    "collapsed": true
   },
   "outputs": [],
   "source": [
    "def FillNC(root_grp_ptr):\n",
    "    retGps = NT(\"returnGroups\",  \"calGrp, productsGrp, navGrp, slaGrp, periodGrp\")\n",
    "    root_grp_ptr.createDimension('samples', 512)\n",
    "    root_grp_ptr.createDimension('scan_lines', 2000)\n",
    "    root_grp_ptr.createDimension('bands', 128)\n",
    "    root_grp_ptr.instrument = 'HICO'\n",
    "    root_grp_ptr.institution = 'NASA Goddard Space Flight Center'\n",
    "    root_grp_ptr.resolution = '100m'\n",
    "    root_grp_ptr.license = 'http://science.nasa.gov/earth-science/earth-science-data/data-information-policy/'\n",
    "    root_grp_ptr.naming_authority = 'gov.nasa.gsfc.sci.oceandata'\n",
    "    root_grp_ptr.date_created = DT.strftime(DT.utcnow(), '%Y-%m-%dT%H:%M:%SZ')\n",
    "    root_grp_ptr.creator_name = 'NASA/GSFC'\n",
    "    root_grp_ptr.creator_email = 'data@oceancolor.gsfc.nasa.gov'\n",
    "    root_grp_ptr.publisher_name = 'NASA/GSFC'\n",
    "    root_grp_ptr.publisher_url = 'http_oceancolor.gsfc.nasa.gov'\n",
    "    root_grp_ptr.publisher_email = 'data@oceacolor.gsfc.nasa.gov'\n",
    "    root_grp_ptr.processing_level = 'L1B'\n",
    "    nav_grp = root_grp_ptr.createGroup('navigation')\n",
    "    nav_vars = list()\n",
    "    nav_vars.append(nav_grp.createVariable('sensor_zenith', 'f4', ('scan_lines', 'samples',)))\n",
    "    nav_vars.append(nav_grp.createVariable('solar_zenith', 'f4', ('scan_lines', 'samples',)))\n",
    "    nav_vars.append(nav_grp.createVariable('sensor_azimuth', 'f4', ('scan_lines', 'samples',)))\n",
    "    nav_vars.append(nav_grp.createVariable('solar_azimuth', 'f4', ('scan_lines', 'samples',)))\n",
    "    nav_vars.append(nav_grp.createVariable('longitudes', 'f4', ('scan_lines', 'samples',)))\n",
    "    nav_vars.append(nav_grp.createVariable('latitudes', 'f4', ('scan_lines', 'samples',)))\n",
    "    for var in nav_vars:\n",
    "        var.units = 'degrees'\n",
    "        var.valid_min = -180\n",
    "        var.valid_max = 180\n",
    "        var.long_name = var.name.replace('_', ' ').rstrip('s')\n",
    "    retGps.navGrp = nav_grp\n",
    "    retGps.productsGrp = root_grp_ptr.createGroup('products')\n",
    "    lt = retGps.productsGrp.createVariable('Lt', 'u2', ('scan_lines', 'samples', 'bands'))\n",
    "    lt.scale_factor = float32([1 / 50.0])\n",
    "    lt.add_offset = float32(0)\n",
    "    lt.units = \"W/m^2/micrometer/sr\"\n",
    "    lt.valid_range = nparray([0, 16384], dtype='u2')\n",
    "    lt.long_name = \"HICO Top of Atmosphere\"\n",
    "    lt.wavelength_units = \"nanometers\"\n",
    "    # lt.createVariable('fwhm', 'f4', ('bands',))\n",
    "    lt.fwhm = npones((128,), dtype='f4') * -1\n",
    "    # wv = lt.createVariable('wavelengths', 'f4', ('bands',))\n",
    "    lt.wavelengths = npones((128,), dtype='f4')\n",
    "    lt.wavelength_units = \"nanometers\"\n",
    "    retGps.slaGrp = root_grp_ptr.createGroup('scan_line_attributes')\n",
    "    retGps.slaGrp.createVariable('scan_quality_flags', 'u1', ('scan_lines', 'samples'))\n",
    "    # Create metadata group and sub-groups\n",
    "    meta_grp = root_grp_ptr.createGroup('metadata')\n",
    "    pl_info_grp = meta_grp.createGroup(\"FGDC/Identification_Information/Platform_and_Instrument_Identification\")\n",
    "    pl_info_grp.Instrument_Short_Name = \"hico\"\n",
    "    prc_lvl_grp = meta_grp.createGroup(\"FGDC/Identification_Information/Processing_Level\")\n",
    "    prc_lvl_grp.Processing_Level_Identifier = \"Level-1B\"\n",
    "    retGps.periodGrp = meta_grp.createGroup(\"FGDC/Identification_Information/Time_Period_of_Content\")\n",
    "    # fill HICO group\n",
    "    retGps.calGrp = meta_grp.createGroup(\"HICO/Calibration\")\n",
    "    return retGps"
   ]
  },
  {
   "cell_type": "code",
   "execution_count": 15,
   "metadata": {},
   "outputs": [
    {
     "data": {
      "text/plain": [
       "'/accounts/ekarakoy/ocssw/var/hico/finals.data'"
      ]
     },
     "execution_count": 15,
     "metadata": {},
     "output_type": "execute_result"
    }
   ],
   "source": [
    "pargs.earthfile"
   ]
  },
  {
   "cell_type": "code",
   "execution_count": 5,
   "metadata": {
    "collapsed": true
   },
   "outputs": [],
   "source": [
    "hlc = HicoL0toL1b(pargs)"
   ]
  },
  {
   "cell_type": "code",
   "execution_count": 7,
   "metadata": {
    "collapsed": true
   },
   "outputs": [],
   "source": [
    "mpvq = MakePosVelQuatCSV(hlc)"
   ]
  },
  {
   "cell_type": "code",
   "execution_count": 21,
   "metadata": {
    "collapsed": true
   },
   "outputs": [],
   "source": [
    "pvqcsv = mpvq.paramsDict['pvqFileName']\n",
    "earth_orient_file = pargs.earthfile\n",
    "leap_sec_file = pargs.lpsfile"
   ]
  },
  {
   "cell_type": "code",
   "execution_count": 19,
   "metadata": {},
   "outputs": [
    {
     "data": {
      "text/plain": [
       "'/accounts/ekarakoy/ocssw/var/modis/leapsec.dat'"
      ]
     },
     "execution_count": 19,
     "metadata": {},
     "output_type": "execute_result"
    }
   ],
   "source": [
    "''.join(pargs.lpsfile)"
   ]
  },
  {
   "cell_type": "code",
   "execution_count": 20,
   "metadata": {},
   "outputs": [
    {
     "data": {
      "text/plain": [
       "'/accounts/ekarakoy/ocssw/var/modis/leapsec.dat'"
      ]
     },
     "execution_count": 20,
     "metadata": {},
     "output_type": "execute_result"
    }
   ],
   "source": [
    "pargs.lpsfile"
   ]
  },
  {
   "cell_type": "code",
   "execution_count": 36,
   "metadata": {
    "collapsed": true
   },
   "outputs": [],
   "source": [
    "ofile=os.path.basename(pargs.l0file).split('bil')[0] + 'nc'"
   ]
  },
  {
   "cell_type": "code",
   "execution_count": 50,
   "metadata": {},
   "outputs": [
    {
     "data": {
      "text/plain": [
       "'/accounts/ekarakoy/ocssw/src/l1bgen_hico/tests/testdata/iss.2013033.0202.152429.L0.12577.20130204205948.hico.nc'"
      ]
     },
     "execution_count": 50,
     "metadata": {},
     "output_type": "execute_result"
    }
   ],
   "source": [
    "opath = os.path.join('/accounts/ekarakoy/ocssw/src/l1bgen_hico/tests/testdata/',ofile)\n",
    "opath"
   ]
  },
  {
   "cell_type": "code",
   "execution_count": null,
   "metadata": {
    "collapsed": true
   },
   "outputs": [],
   "source": [
    "'iss.2013033.0202.152429.L0.12577.20130204205948.hico.h5'"
   ]
  },
  {
   "cell_type": "code",
   "execution_count": 8,
   "metadata": {
    "collapsed": true
   },
   "outputs": [],
   "source": [
    "hlc.ConvertRaw2Rad()"
   ]
  },
  {
   "cell_type": "code",
   "execution_count": 24,
   "metadata": {
    "collapsed": true
   },
   "outputs": [],
   "source": [
    "hicogeo = hico_geo(pqcsv, earth_orient_file, leap_sec_file, pargs.boresight)"
   ]
  },
  {
   "cell_type": "code",
   "execution_count": 51,
   "metadata": {
    "collapsed": true
   },
   "outputs": [],
   "source": [
    "with DS(opath, 'w', format='NETCDF4') as root_grp:\n",
    "    ncGroups = FillNC(root_grp)\n",
    "    hlc.WriteRadFile(ncGroups.productsGrp, ncGroups.periodGrp)\n",
    "    hicogeo.write_geo_nc(ncGroups.navGrp, ncGroups.calGrp)"
   ]
  },
  {
   "cell_type": "code",
   "execution_count": null,
   "metadata": {
    "collapsed": true
   },
   "outputs": [],
   "source": []
  }
 ],
 "metadata": {
  "anaconda-cloud": {},
  "kernelspec": {
   "display_name": "Python 3",
   "language": "python",
   "name": "python3"
  },
  "language_info": {
   "codemirror_mode": {
    "name": "ipython",
    "version": 3
   },
   "file_extension": ".py",
   "mimetype": "text/x-python",
   "name": "python",
   "nbconvert_exporter": "python",
   "pygments_lexer": "ipython3",
   "version": "3.6.3"
  }
 },
 "nbformat": 4,
 "nbformat_minor": 2
}
